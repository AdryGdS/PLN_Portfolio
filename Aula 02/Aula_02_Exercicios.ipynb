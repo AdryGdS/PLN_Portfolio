{
  "nbformat": 4,
  "nbformat_minor": 0,
  "metadata": {
    "colab": {
      "provenance": []
    },
    "kernelspec": {
      "name": "python3",
      "display_name": "Python 3"
    },
    "language_info": {
      "name": "python"
    }
  },
  "cells": [
    {
      "cell_type": "markdown",
      "source": [
        "Aula 2 - Processamento de Linguagem Natural - Bibliotecas"
      ],
      "metadata": {
        "id": "YDOtcVSppcAR"
      }
    },
    {
      "cell_type": "markdown",
      "source": [
        "Ex. 1 Calcular o volume de uma caixa retangular"
      ],
      "metadata": {
        "id": "53HcemixHqAR"
      }
    },
    {
      "cell_type": "code",
      "source": [
        "comprimento = float(input(\"Digite o comprimento da caixa: \"))\n",
        "largura = float(input(\"Digite a largura da caixa: \"))\n",
        "altura = float(input(\"Digite a altura da caixa: \"))"
      ],
      "metadata": {
        "id": "JquM4Dmzpa4X",
        "colab": {
          "base_uri": "https://localhost:8080/"
        },
        "outputId": "0da22873-0afe-4c9b-90ad-aed43b6ece13"
      },
      "execution_count": 14,
      "outputs": [
        {
          "name": "stdout",
          "output_type": "stream",
          "text": [
            "Digite o comprimento da caixa: 2\n",
            "Digite a largura da caixa: 2\n",
            "Digite a altura da caixa: 3\n"
          ]
        }
      ]
    },
    {
      "cell_type": "code",
      "source": [
        "volume = comprimento * largura * altura\n",
        "print(\"\\n O volume da caixa é: \" + str(volume) + \" unidades cúbicas\")"
      ],
      "metadata": {
        "id": "xp-FMV9tHykh",
        "colab": {
          "base_uri": "https://localhost:8080/"
        },
        "outputId": "cc9294c0-9299-4a2f-ecf2-64d18020d918"
      },
      "execution_count": 15,
      "outputs": [
        {
          "output_type": "stream",
          "name": "stdout",
          "text": [
            "\n",
            " O volume da caixa é: 12.0 unidades cúbicas\n"
          ]
        }
      ]
    },
    {
      "cell_type": "markdown",
      "source": [
        "Ex. 2 Contagem palavras em um texto"
      ],
      "metadata": {
        "id": "wKiXIbOvICRd"
      }
    },
    {
      "cell_type": "code",
      "source": [
        "texto = input(\"Digite um texto: \")"
      ],
      "metadata": {
        "id": "GphlQgMLIHaR",
        "colab": {
          "base_uri": "https://localhost:8080/"
        },
        "outputId": "fde87c57-4eb4-4928-902d-143b8c859195"
      },
      "execution_count": 16,
      "outputs": [
        {
          "name": "stdout",
          "output_type": "stream",
          "text": [
            "Digite um texto: Contagem de palavras é legal\n"
          ]
        }
      ]
    },
    {
      "cell_type": "code",
      "source": [
        "palavras = texto.split()\n",
        "numero_de_palavras = len(palavras)"
      ],
      "metadata": {
        "id": "GBdqjHbuIK0B"
      },
      "execution_count": 17,
      "outputs": []
    },
    {
      "cell_type": "code",
      "source": [
        "print(\"\\n O número de palavras no texto é: \"+str(numero_de_palavras))"
      ],
      "metadata": {
        "id": "MecBhH6qIQP2",
        "colab": {
          "base_uri": "https://localhost:8080/"
        },
        "outputId": "47d2f048-914f-4b1c-e669-9f080e889d93"
      },
      "execution_count": 20,
      "outputs": [
        {
          "output_type": "stream",
          "name": "stdout",
          "text": [
            "\n",
            " O número de palavras no texto é: 5\n"
          ]
        }
      ]
    },
    {
      "cell_type": "markdown",
      "source": [
        "Ex. 3 Substituir palavras"
      ],
      "metadata": {
        "id": "S00ahW73IYVZ"
      }
    },
    {
      "cell_type": "code",
      "source": [
        "texto = input(\"Digite um texto: \")\n",
        "palavra_antiga = input(\"Digite a palavra a ser substituída: \")\n",
        "palavra_nova = input(\"Digite a nova palavra: \")"
      ],
      "metadata": {
        "id": "eyKyeBw6IauS",
        "colab": {
          "base_uri": "https://localhost:8080/"
        },
        "outputId": "27cbf590-50a0-4c25-ff70-733cacb02abd"
      },
      "execution_count": 6,
      "outputs": [
        {
          "name": "stdout",
          "output_type": "stream",
          "text": [
            "Digite um texto: Contagem de palavras é legal\n",
            "Digite a palavra a ser substituída: legal\n",
            "Digite a nova palavra: interessante\n"
          ]
        }
      ]
    },
    {
      "cell_type": "code",
      "source": [
        "novo_texto = texto.replace(palavra_antiga, palavra_nova)"
      ],
      "metadata": {
        "id": "-cqjlH-ZIdsp"
      },
      "execution_count": 7,
      "outputs": []
    },
    {
      "cell_type": "code",
      "source": [
        "print(\"\\n O texto modificado é: \"+str(novo_texto))"
      ],
      "metadata": {
        "id": "SZMLQ7UGIfZC",
        "colab": {
          "base_uri": "https://localhost:8080/"
        },
        "outputId": "7e9a7dda-33ba-4e2a-cc3c-b38c3e5ad3b2"
      },
      "execution_count": 21,
      "outputs": [
        {
          "output_type": "stream",
          "name": "stdout",
          "text": [
            "\n",
            " O texto modificado é: Contagem de palavras é interessante\n"
          ]
        }
      ]
    },
    {
      "cell_type": "markdown",
      "source": [
        "Ex. 4 Separação de frases"
      ],
      "metadata": {
        "id": "kJBmvbYkIiU6"
      }
    },
    {
      "cell_type": "code",
      "source": [
        "texto = input(\"Digite um texto com várias frases: \")"
      ],
      "metadata": {
        "id": "k7FNmQ8iImtq",
        "colab": {
          "base_uri": "https://localhost:8080/"
        },
        "outputId": "fb7329fc-07c9-4ebd-ad7b-b8c8b7f1ee29"
      },
      "execution_count": 22,
      "outputs": [
        {
          "name": "stdout",
          "output_type": "stream",
          "text": [
            "Digite um texto com várias frases: É interessante ver filmes. Eu gosto muito de ir ao cinema para isso. Porém acho que os ingressos são muito caros.\n"
          ]
        }
      ]
    },
    {
      "cell_type": "code",
      "source": [
        "frases = texto.split(\".\")"
      ],
      "metadata": {
        "id": "qkc--_PFInH9"
      },
      "execution_count": 23,
      "outputs": []
    },
    {
      "cell_type": "code",
      "source": [
        "for i, frase in enumerate(frases):\n",
        "    print(f\"Frase {i + 1}: {frase.strip()}\")"
      ],
      "metadata": {
        "id": "gcZcvS9NIpMI",
        "colab": {
          "base_uri": "https://localhost:8080/"
        },
        "outputId": "a4e9421e-f253-401d-a127-b1c2d4b87246"
      },
      "execution_count": 24,
      "outputs": [
        {
          "output_type": "stream",
          "name": "stdout",
          "text": [
            "Frase 1: É interessante ver filmes\n",
            "Frase 2: Eu gosto muito de ir ao cinema para isso\n",
            "Frase 3: Porém acho que os ingressos são muito caros\n",
            "Frase 4: \n"
          ]
        }
      ]
    },
    {
      "cell_type": "markdown",
      "source": [
        "Ex. 5 Ler valores e mostrar do menor pro maior"
      ],
      "metadata": {
        "id": "5LKtBrv9IrRs"
      }
    },
    {
      "cell_type": "code",
      "source": [
        "A = int(input(\"Digite o valor de A: \"))\n",
        "B = int(input(\"Digite o valor de B: \"))\n",
        "C = int(input(\"Digite o valor de C: \"))"
      ],
      "metadata": {
        "id": "jWtY_kTcIxBP",
        "colab": {
          "base_uri": "https://localhost:8080/"
        },
        "outputId": "4f2045e7-59ad-41d3-d30c-c4954367a962"
      },
      "execution_count": 25,
      "outputs": [
        {
          "name": "stdout",
          "output_type": "stream",
          "text": [
            "Digite o valor de A: 5\n",
            "Digite o valor de B: 1\n",
            "Digite o valor de C: 3\n"
          ]
        }
      ]
    },
    {
      "cell_type": "code",
      "source": [
        "valores = [A, B, C]\n",
        "valores.sort()"
      ],
      "metadata": {
        "id": "NPHOLEaXI1ZC"
      },
      "execution_count": 26,
      "outputs": []
    },
    {
      "cell_type": "code",
      "source": [
        "print(\"\\n Valores em ordem crescente: \", valores)"
      ],
      "metadata": {
        "id": "QhpSPMC0JAg8",
        "colab": {
          "base_uri": "https://localhost:8080/"
        },
        "outputId": "0758f56c-ee47-426c-b6ce-3787bb0ac340"
      },
      "execution_count": 29,
      "outputs": [
        {
          "output_type": "stream",
          "name": "stdout",
          "text": [
            "\n",
            " Valores em ordem crescente:  [1, 3, 5]\n"
          ]
        }
      ]
    },
    {
      "cell_type": "markdown",
      "source": [
        "Ex. 6 Ler valores e apresentar divisíveis"
      ],
      "metadata": {
        "id": "BY6LsBodOC1g"
      }
    },
    {
      "cell_type": "code",
      "source": [
        "valores = []"
      ],
      "metadata": {
        "id": "fP6hSx3COJjU"
      },
      "execution_count": 37,
      "outputs": []
    },
    {
      "cell_type": "code",
      "source": [
        "for i in range(4):\n",
        "  valores.append(int(input(f\"digite o {i+1} valor:\")))\n",
        "\n",
        "print(\"Valores divisíveis por 2 e 3:\")\n",
        "\n",
        "for valor in valores:\n",
        "    if valor % 2 == 0 and valor % 3 == 0:\n",
        "        print(valor)"
      ],
      "metadata": {
        "colab": {
          "base_uri": "https://localhost:8080/"
        },
        "id": "CqMdb7nsdW-W",
        "outputId": "38ca9927-85a6-44d3-9883-a9347b5009f4"
      },
      "execution_count": 38,
      "outputs": [
        {
          "output_type": "stream",
          "name": "stdout",
          "text": [
            "digite o 1 valor:5\n",
            "digite o 2 valor:17\n",
            "digite o 3 valor:18\n",
            "digite o 4 valor:56\n",
            "Valores divisíveis por 2 e 3:\n",
            "18\n"
          ]
        }
      ]
    },
    {
      "cell_type": "markdown",
      "source": [
        "Ex. 7 Apresentar divisíveis por 4 e menores que 200"
      ],
      "metadata": {
        "id": "s0mPVSoqObHt"
      }
    },
    {
      "cell_type": "code",
      "source": [
        "for i in range(4,200,4):\n",
        "  print(i)"
      ],
      "metadata": {
        "colab": {
          "base_uri": "https://localhost:8080/"
        },
        "id": "XzSJ5SFaOapo",
        "outputId": "3ea68454-1ebd-4ccd-a35c-a324031bf0df"
      },
      "execution_count": 39,
      "outputs": [
        {
          "output_type": "stream",
          "name": "stdout",
          "text": [
            "4\n",
            "8\n",
            "12\n",
            "16\n",
            "20\n",
            "24\n",
            "28\n",
            "32\n",
            "36\n",
            "40\n",
            "44\n",
            "48\n",
            "52\n",
            "56\n",
            "60\n",
            "64\n",
            "68\n",
            "72\n",
            "76\n",
            "80\n",
            "84\n",
            "88\n",
            "92\n",
            "96\n",
            "100\n",
            "104\n",
            "108\n",
            "112\n",
            "116\n",
            "120\n",
            "124\n",
            "128\n",
            "132\n",
            "136\n",
            "140\n",
            "144\n",
            "148\n",
            "152\n",
            "156\n",
            "160\n",
            "164\n",
            "168\n",
            "172\n",
            "176\n",
            "180\n",
            "184\n",
            "188\n",
            "192\n",
            "196\n"
          ]
        }
      ]
    }
  ]
}