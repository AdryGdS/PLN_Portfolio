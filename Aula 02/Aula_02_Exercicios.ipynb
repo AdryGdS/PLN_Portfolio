{
  "nbformat": 4,
  "nbformat_minor": 0,
  "metadata": {
    "colab": {
      "provenance": []
    },
    "kernelspec": {
      "name": "python3",
      "display_name": "Python 3"
    },
    "language_info": {
      "name": "python"
    }
  },
  "cells": [
    {
      "cell_type": "markdown",
      "source": [
        "Aula 2 - Processamento de Linguagem Natural - Bibliotecas"
      ],
      "metadata": {
        "id": "YDOtcVSppcAR"
      }
    },
    {
      "cell_type": "markdown",
      "source": [
        "Ex. 1 Calcular o volume de uma caixa retangular"
      ],
      "metadata": {
        "id": "53HcemixHqAR"
      }
    },
    {
      "cell_type": "code",
      "source": [
        "comprimento = float(input(\"Digite o comprimento da caixa: \"))\n",
        "largura = float(input(\"Digite a largura da caixa: \"))\n",
        "altura = float(input(\"Digite a altura da caixa: \"))"
      ],
      "metadata": {
        "id": "JquM4Dmzpa4X"
      },
      "execution_count": null,
      "outputs": []
    },
    {
      "cell_type": "code",
      "source": [
        "volume = comprimento * largura * altura\n",
        "print(\"/n O volume da caixa é: {volume} unidades cúbicas\")"
      ],
      "metadata": {
        "id": "xp-FMV9tHykh"
      },
      "execution_count": null,
      "outputs": []
    },
    {
      "cell_type": "markdown",
      "source": [
        "Ex. 2 Contagem palavras em um texto"
      ],
      "metadata": {
        "id": "wKiXIbOvICRd"
      }
    },
    {
      "cell_type": "code",
      "source": [
        "texto = input(\"Digite um texto: \")"
      ],
      "metadata": {
        "id": "GphlQgMLIHaR"
      },
      "execution_count": null,
      "outputs": []
    },
    {
      "cell_type": "code",
      "source": [
        "palavras = texto.split()\n",
        "numero_de_palavras = len(palavras)"
      ],
      "metadata": {
        "id": "GBdqjHbuIK0B"
      },
      "execution_count": null,
      "outputs": []
    },
    {
      "cell_type": "code",
      "source": [
        "print(\"/n O número de palavras no texto é: {numero_de_palavras}\")"
      ],
      "metadata": {
        "id": "MecBhH6qIQP2"
      },
      "execution_count": null,
      "outputs": []
    },
    {
      "cell_type": "markdown",
      "source": [
        "Ex. 3 Substituir palavras"
      ],
      "metadata": {
        "id": "S00ahW73IYVZ"
      }
    },
    {
      "cell_type": "code",
      "source": [
        "texto = input(\"Digite um texto: \")\n",
        "palavra_antiga = input(\"Digite a palavra a ser substituída: \")\n",
        "palavra_nova = input(\"Digite a nova palavra: \")"
      ],
      "metadata": {
        "id": "eyKyeBw6IauS"
      },
      "execution_count": null,
      "outputs": []
    },
    {
      "cell_type": "code",
      "source": [
        "novo_texto = texto.replace(palavra_antiga, palavra_nova)"
      ],
      "metadata": {
        "id": "-cqjlH-ZIdsp"
      },
      "execution_count": null,
      "outputs": []
    },
    {
      "cell_type": "code",
      "source": [
        "print(\"/n O texto modificado é: {novo_texto}\")"
      ],
      "metadata": {
        "id": "SZMLQ7UGIfZC"
      },
      "execution_count": null,
      "outputs": []
    },
    {
      "cell_type": "markdown",
      "source": [
        "Ex. 4 Separação de frases"
      ],
      "metadata": {
        "id": "kJBmvbYkIiU6"
      }
    },
    {
      "cell_type": "code",
      "source": [
        "texto = input(\"Digite um texto com várias frases: \")"
      ],
      "metadata": {
        "id": "k7FNmQ8iImtq"
      },
      "execution_count": null,
      "outputs": []
    },
    {
      "cell_type": "code",
      "source": [
        "frases = texto.split(\".\")"
      ],
      "metadata": {
        "id": "qkc--_PFInH9"
      },
      "execution_count": null,
      "outputs": []
    },
    {
      "cell_type": "code",
      "source": [
        "for i, frase in enumerate(frases):\n",
        "    print(f\"Frase {i + 1}: {frase.strip()}\")"
      ],
      "metadata": {
        "id": "gcZcvS9NIpMI"
      },
      "execution_count": null,
      "outputs": []
    },
    {
      "cell_type": "markdown",
      "source": [
        "Ex. 5 Ler valores e mostrar do menor pro maior"
      ],
      "metadata": {
        "id": "5LKtBrv9IrRs"
      }
    },
    {
      "cell_type": "code",
      "source": [
        "A = int(input(\"Digite o valor de A: \"))\n",
        "B = int(input(\"Digite o valor de B: \"))\n",
        "C = int(input(\"Digite o valor de C: \"))"
      ],
      "metadata": {
        "id": "jWtY_kTcIxBP"
      },
      "execution_count": null,
      "outputs": []
    },
    {
      "cell_type": "code",
      "source": [
        "alores = [A, B, C]\n",
        "valores.sort()"
      ],
      "metadata": {
        "id": "NPHOLEaXI1ZC"
      },
      "execution_count": null,
      "outputs": []
    },
    {
      "cell_type": "code",
      "source": [
        "print(\"/n Valores em ordem crescente: {valores}\")"
      ],
      "metadata": {
        "id": "QhpSPMC0JAg8"
      },
      "execution_count": null,
      "outputs": []
    },
    {
      "cell_type": "markdown",
      "source": [
        "Ex. 6 Ler valores e apresentar divisíveis"
      ],
      "metadata": {
        "id": "BY6LsBodOC1g"
      }
    },
    {
      "cell_type": "code",
      "source": [
        "A = int(input(\"Digite o valor de A: \"))\n",
        "B = int(input(\"Digite o valor de B: \"))\n",
        "C = int(input(\"Digite o valor de C: \"))\n",
        "D = int(input(\"Digite o valor de D: \"))"
      ],
      "metadata": {
        "id": "fP6hSx3COJjU"
      },
      "execution_count": null,
      "outputs": []
    },
    {
      "cell_type": "code",
      "source": [
        "valores = [A, B, C, D]"
      ],
      "metadata": {
        "id": "r5wigDGVOMNX"
      },
      "execution_count": null,
      "outputs": []
    },
    {
      "cell_type": "code",
      "source": [
        "for valor in valores:\n",
        "    if valor % 2 == 0 and valor % 3 == 0:"
      ],
      "metadata": {
        "id": "P8aaai4jOPSP"
      },
      "execution_count": null,
      "outputs": []
    },
    {
      "cell_type": "code",
      "source": [
        "print(f\"O valor {valor} é divisível por 2 e 3.\")"
      ],
      "metadata": {
        "id": "ewOqGiExOSbN"
      },
      "execution_count": null,
      "outputs": []
    },
    {
      "cell_type": "markdown",
      "source": [
        "Ex. 7 Apresentar divisíveis por 4 e menores que 200"
      ],
      "metadata": {
        "id": "s0mPVSoqObHt"
      }
    },
    {
      "cell_type": "code",
      "source": [
        "for i in range(4,200,4):\n",
        "  print(i)"
      ],
      "metadata": {
        "colab": {
          "base_uri": "https://localhost:8080/"
        },
        "id": "XzSJ5SFaOapo",
        "outputId": "7e0edcfc-6531-418e-aa7f-c8967b3d5579"
      },
      "execution_count": null,
      "outputs": [
        {
          "output_type": "stream",
          "name": "stdout",
          "text": [
            "4\n",
            "8\n",
            "12\n",
            "16\n",
            "20\n",
            "24\n",
            "28\n",
            "32\n",
            "36\n",
            "40\n",
            "44\n",
            "48\n",
            "52\n",
            "56\n",
            "60\n",
            "64\n",
            "68\n",
            "72\n",
            "76\n",
            "80\n",
            "84\n",
            "88\n",
            "92\n",
            "96\n",
            "100\n",
            "104\n",
            "108\n",
            "112\n",
            "116\n",
            "120\n",
            "124\n",
            "128\n",
            "132\n",
            "136\n",
            "140\n",
            "144\n",
            "148\n",
            "152\n",
            "156\n",
            "160\n",
            "164\n",
            "168\n",
            "172\n",
            "176\n",
            "180\n",
            "184\n",
            "188\n",
            "192\n",
            "196\n"
          ]
        }
      ]
    }
  ]
}