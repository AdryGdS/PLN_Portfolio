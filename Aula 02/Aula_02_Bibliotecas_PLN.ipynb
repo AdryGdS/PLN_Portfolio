{
  "nbformat": 4,
  "nbformat_minor": 0,
  "metadata": {
    "colab": {
      "provenance": []
    },
    "kernelspec": {
      "name": "python3",
      "display_name": "Python 3"
    },
    "language_info": {
      "name": "python"
    }
  },
  "cells": [
    {
      "cell_type": "markdown",
      "source": [
        "Conceitos Fundamentais da Linguagem Python"
      ],
      "metadata": {
        "id": "b-8USbUM6QuX"
      }
    },
    {
      "cell_type": "markdown",
      "source": [
        "Exemplo 1 - Sintaxe Básica e Estrutura do Código em Python\n",
        "\n",
        "*  Indentação obrigatória como parte da sintaxe.\n",
        "*  Uso de comentários (# Comentário)."
      ],
      "metadata": {
        "id": "bmPrCIdX8zmU"
      }
    },
    {
      "cell_type": "code",
      "execution_count": null,
      "metadata": {
        "colab": {
          "base_uri": "https://localhost:8080/"
        },
        "id": "AgOMif4C6H6F",
        "outputId": "4aa69065-06a1-415c-f993-c867415976f4"
      },
      "outputs": [
        {
          "output_type": "stream",
          "name": "stdout",
          "text": [
            "Algo\n",
            "Isso vai\n"
          ]
        }
      ],
      "source": [
        "# Um comentário\n",
        "# Qualquer coisa depois de # é ignorada pelo Python.\n",
        "\n",
        "print(\"Algo\") # e o comentário depois ignorado\n",
        "\n",
        "# Você também pode usar um comentário para desabilitar um código:\n",
        "#print(\"Isso não\")\n",
        "\n",
        "print('Isso vai')"
      ]
    },
    {
      "cell_type": "markdown",
      "source": [
        "Exemplo 2 - Atribuição de variáveis.\n",
        "*  Tipos primitivos mais comuns: int, float, str, bool.\n",
        "*  Conversão entre tipos:"
      ],
      "metadata": {
        "id": "yvR1TOWU9DPa"
      }
    },
    {
      "cell_type": "code",
      "source": [
        "#Define variáveis com números específicos\n",
        "\n",
        "cars = 100\n",
        "spaceInACar = 4.0\n",
        "drivers = 30\n",
        "passengers = 90\n",
        "carsNotDriven = cars - drivers\n",
        "carsDriven = drivers\n",
        "carpoolCapacity = carsDriven * spaceInACar\n",
        "averagePassengersPerCar = passengers / carsDriven\n",
        "\n",
        "#Imprime os resultados\n",
        "print(\"There are\", cars, \"cars available.\")\n",
        "print(\"There are only\", drivers, \"drivers available.\")\n",
        "print(\"There will be\", carsNotDriven, \"empty cars today.\")\n",
        "print(\"We can transport\", carpoolCapacity, \"people today.\")\n",
        "print(\"We have\", passengers, \"to carpool today.\")\n",
        "print(\"We need to put about\", averagePassengersPerCar, \"in each car.\")\n",
        "\n",
        "#Teste de impressão de divisão\n",
        "print(10/5)"
      ],
      "metadata": {
        "colab": {
          "base_uri": "https://localhost:8080/"
        },
        "id": "f-ygJzdK_tOF",
        "outputId": "5fda0765-7077-4a6b-b64d-d79363270588"
      },
      "execution_count": null,
      "outputs": [
        {
          "output_type": "stream",
          "name": "stdout",
          "text": [
            "There are 100 cars available.\n",
            "There are only 30 drivers available.\n",
            "There will be 70 empty cars today.\n",
            "We can transport 120.0 people today.\n",
            "We have 90 to carpool today.\n",
            "We need to put about 3.0 in each car.\n",
            "2.0\n"
          ]
        }
      ]
    },
    {
      "cell_type": "markdown",
      "source": [
        "Exemplo 3 - Entrada e Saída de Dados\n",
        "* Função input().\n",
        "* Exibição com print()."
      ],
      "metadata": {
        "id": "AEkNlP3L9MAi"
      }
    },
    {
      "cell_type": "code",
      "source": [
        "#Solicita ao usuário inputs\n",
        "\n",
        "print(\"How old are you?\", end=' ')\n",
        "age = input()\n",
        "\n",
        "print(\"How tall are you (cm)?\", end= ' ')\n",
        "height = input()\n",
        "\n",
        "print(\"How much do you weigh?\", end= ' ')\n",
        "weigh = input()\n",
        "\n",
        "#Exibe cada valor de variável de acordo com o que o usuário inseriu\n",
        "\n",
        "print(f\"So, you're {age} old, {height} tall and {weigh} heavy.\")"
      ],
      "metadata": {
        "colab": {
          "base_uri": "https://localhost:8080/"
        },
        "id": "WIT1s1lBAvWb",
        "outputId": "255b1815-e692-4dcf-c6ef-9e89418a6f93"
      },
      "execution_count": null,
      "outputs": [
        {
          "output_type": "stream",
          "name": "stdout",
          "text": [
            "How old are you? 20\n",
            "How tall are you? 183\n",
            "How much do you weigh? 81\n",
            "So, you're 20 old, 183 tall and 81 heavy.\n"
          ]
        }
      ]
    },
    {
      "cell_type": "markdown",
      "source": [
        "Exemplo 4 - Operadores\n",
        "* Operadores aritméticos: +, -, *, /, //, %, **.\n",
        "* Operadores relacionais: ==, !=, >, <, >=, <=.\n",
        "* Operadores lógicos: and, or, not."
      ],
      "metadata": {
        "id": "UaJg1BD59XXf"
      }
    },
    {
      "cell_type": "code",
      "source": [
        "#Avalia e realiza operadores matemáticos e lógicos enquanto imprime o resultado\n",
        "\n",
        "print(\"I will now count my chickens:\")\n",
        "print(\"Hens\", 25 + 30 / 6)\n",
        "print(\"Roosters\", 100.0 - 25 * 3 % 4)\n",
        "\n",
        "print(\"Now I will count the eggs:\")\n",
        "print(3 + 2 + 1 - 5 + 4 % 2 - 1 / 4 + 6)\n",
        "\n",
        "print(\"Is it true that 3 + 2 < 5 - 7?\")\n",
        "print(3 + 2 < 5 - 7)\n",
        "\n",
        "print(\"Whats is 3 + 2?\", 3 + 2)\n",
        "print(\"Whats is 5 - 7?\", 5 - 7)\n",
        "print(\"Oh, that's why it's False.\")\n",
        "\n",
        "print(\"How About some more.\")\n",
        "\n",
        "print(\"Is it greater?\", 5 > -2)\n",
        "print(\"Is it greater or equal?\", 5 >= -2)\n",
        "print(\"Is it less or equal?\", 5 <= -2)"
      ],
      "metadata": {
        "colab": {
          "base_uri": "https://localhost:8080/"
        },
        "id": "tsO_Jb5PBorW",
        "outputId": "3d81a6d2-3f2d-42ad-abed-cce70663d99f"
      },
      "execution_count": null,
      "outputs": [
        {
          "output_type": "stream",
          "name": "stdout",
          "text": [
            "I will now count my chickens:\n",
            "Hens 30.0\n",
            "Roosters 97.0\n",
            "Now I will count the eggs:\n",
            "6.75\n",
            "Is it true that 3 + 2 < 5 - 7?\n",
            "False\n",
            "Whats is 3 + 2? 5\n",
            "Whats is 5 - 7? -2\n",
            "Oh, that's why it's False.\n",
            "How About some more.\n",
            "Is it greater? True\n",
            "Is it greater or equal? True\n",
            "Is it less or equal? False\n"
          ]
        }
      ]
    },
    {
      "cell_type": "markdown",
      "source": [
        "Exemplo 5 -Estruturas Condicionais\n",
        "* if ( condição ):\n",
        "* elif ( condição ):\n",
        "* else:"
      ],
      "metadata": {
        "id": "SNSJHqAh9khC"
      }
    },
    {
      "cell_type": "code",
      "source": [
        "people = 30\n",
        "cars = 40\n",
        "trucks = 15\n",
        "\n",
        "if cars > people:\n",
        "    print(\"We should take the cars.\")\n",
        "elif cars < people:\n",
        "    print(\"We should not take the cars.\")\n",
        "else:\n",
        "    print(\"We can't decide.\")\n",
        "\n",
        "if trucks > cars:\n",
        "    print(\"That's too many trucks.\")\n",
        "elif trucks < cars:\n",
        "    print(\"Maybe we could take the trucks.\")\n",
        "else:\n",
        "    print(\"We still can't decide.\")\n",
        "\n",
        "if people > trucks:\n",
        "    print(\"Alright, let's just take the trucks.\")\n",
        "else:\n",
        "    print(\"Fine, let's stay home then.\")"
      ],
      "metadata": {
        "colab": {
          "base_uri": "https://localhost:8080/"
        },
        "id": "_ltwwBpRB34h",
        "outputId": "3c92ec84-a898-42a6-8328-b45d8813cd0f"
      },
      "execution_count": null,
      "outputs": [
        {
          "output_type": "stream",
          "name": "stdout",
          "text": [
            "We should take the cars.\n",
            "Maybe we could take the trucks.\n",
            "Alright, let's just take the trucks.\n"
          ]
        }
      ]
    },
    {
      "cell_type": "markdown",
      "source": [
        "Exemplo 6 - Laços de Repetição\n",
        "* for [i] in [xxxx]:\n",
        "* while (condição):"
      ],
      "metadata": {
        "id": "nVWSHjHw92o8"
      }
    },
    {
      "cell_type": "code",
      "source": [
        "i = 0\n",
        "numbers = []\n",
        "\n",
        "while i < 6:\n",
        "    print(f\"At the top i is {i}\")\n",
        "    numbers.append(i)\n",
        "\n",
        "    i = i + 1\n",
        "    print(\"Numbers now: \", numbers)\n",
        "    print(f\"At the bottom i is {i}\")\n",
        "\n",
        "\n",
        "print(\"The numbers: \")\n",
        "\n",
        "for num in range(1,11,2):\n",
        "    print(num)"
      ],
      "metadata": {
        "colab": {
          "base_uri": "https://localhost:8080/"
        },
        "id": "lIOG6cU_Cfnj",
        "outputId": "7d731096-b67f-4f75-b3aa-69c74a13da54"
      },
      "execution_count": null,
      "outputs": [
        {
          "output_type": "stream",
          "name": "stdout",
          "text": [
            "At the top i is 0\n",
            "Numbers now:  [0]\n",
            "At the bottom i is 1\n",
            "At the top i is 1\n",
            "Numbers now:  [0, 1]\n",
            "At the bottom i is 2\n",
            "At the top i is 2\n",
            "Numbers now:  [0, 1, 2]\n",
            "At the bottom i is 3\n",
            "At the top i is 3\n",
            "Numbers now:  [0, 1, 2, 3]\n",
            "At the bottom i is 4\n",
            "At the top i is 4\n",
            "Numbers now:  [0, 1, 2, 3, 4]\n",
            "At the bottom i is 5\n",
            "At the top i is 5\n",
            "Numbers now:  [0, 1, 2, 3, 4, 5]\n",
            "At the bottom i is 6\n",
            "The numbers: \n",
            "1\n",
            "3\n",
            "5\n",
            "7\n",
            "9\n"
          ]
        }
      ]
    },
    {
      "cell_type": "markdown",
      "source": [
        "Exemplo 7 - Listas e Strings\n",
        "* Declaração e manipulação de listas.\n",
        "* Operações básicas com strings.\n",
        "* Fatiamento e iteração."
      ],
      "metadata": {
        "id": "0M0okqfx-MY1"
      }
    },
    {
      "cell_type": "code",
      "source": [
        "the_count = [1, 2, 3, 4, 5]\n",
        "fruits = ['apples', 'oranges', 'pears', 'apricots']\n",
        "change = [1, 'pennies', 2, 'dimes', 3, 'quarters']\n",
        "lista = []\n",
        "\n",
        "# Primeiro tipo de loop for percorre uma lista\n",
        "for number in the_count:\n",
        "    print(f\"This is count {number}\")\n",
        "\n",
        "# mesma coisa que o código acima\n",
        "for fruit in fruits:\n",
        "    print(f\"A fruit of type: {fruit}\")\n",
        "\n",
        "# também podemos percorrer listas mistas\n",
        "# perceba que temos que usar um {} uma vez que não sabemos o que há nela\n",
        "for i in change:\n",
        "    print(f\"I got {i}\")\n",
        "\n",
        "# também podemos construir listas, primeiro comece com uma vazia\n",
        "elements = []\n",
        "\n",
        "# então use a função range para fazer a contagem de 0 a 5\n",
        "for i in range(0, 6):\n",
        "    print(f\"Adding {i} to the list.\")\n",
        "    #append é uma função que as listas entendem\n",
        "    elements.append(i)\n",
        "\n",
        "# agora vamos imprimi-la também\n",
        "for i in elements:\n",
        "    print(f\"Element was: {i}\")"
      ],
      "metadata": {
        "id": "HtHGT5qpDIWj"
      },
      "execution_count": null,
      "outputs": []
    }
  ]
}